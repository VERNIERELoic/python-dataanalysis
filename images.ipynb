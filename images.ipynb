{
 "cells": [
  {
   "cell_type": "code",
   "execution_count": null,
   "source": [
    "import opendatasets as od\n",
    "import os\n",
    "import PIL.Image\n",
    "from PIL import Image\n",
    "from PIL.ExifTags import TAGS\n",
    "\n",
    "username = \"verniereloic\"\n",
    "key = \"03e78f24e94d43d80b595934fc372ecf\"\n",
    "\n",
    "od.download(\"https://www.kaggle.com/ayklovettc/images-with-exif\")\n",
    "\n"
   ],
   "outputs": [],
   "metadata": {}
  },
  {
   "cell_type": "markdown",
   "source": [
    "## Extract exif in python \n",
    "\n",
    "We will not use id for next steps"
   ],
   "metadata": {}
  },
  {
   "cell_type": "code",
   "execution_count": null,
   "source": [
    "import opendatasets as od\n",
    "import os\n",
    "import PIL.Image\n",
    "from PIL import Image\n",
    "from PIL.ExifTags import TAGS\n",
    "\n",
    "\n",
    "def get_meta():\n",
    "    path = \"Images/\"\n",
    "    folders = os.listdir(\"Images\")\n",
    "    categories = []\n",
    "\n",
    "    for folder in folders:\n",
    "        categories.append(folder)\n",
    "        for image in os.listdir(path + folder):\n",
    "            if image.endswith(\".jpg\"):\n",
    "                img = PIL.Image.open(path + folder + \"/\" + image)\n",
    "                exif_data = img.getexif()\n",
    "                print(exif_data)"
   ],
   "outputs": [],
   "metadata": {}
  },
  {
   "cell_type": "code",
   "execution_count": 43,
   "source": [
    "from __future__ import print_function\n",
    "import binascii\n",
    "import struct\n",
    "from PIL import Image\n",
    "import numpy as np\n",
    "import scipy\n",
    "import scipy.misc\n",
    "import scipy.cluster\n",
    "import json\n",
    "\n",
    "\n",
    "def json_imgdata(imagename, cpt, category, color):\n",
    "    data = { imagename : [ {'Id': cpt,'Category': category, 'Color': color}]}\n",
    "    with open('json_data.json', 'a') as outfile:\n",
    "        outfile.write(json.dumps(data, indent=4))\n",
    "        outfile.write(\",\")\n",
    "        outfile.close()\n",
    "\n",
    "\n",
    "def find_color(NUM_CLUSTERS):\n",
    "\n",
    "    path = \"Images/\"\n",
    "    folders = os.listdir(\"Images\")\n",
    "    categories = []\n",
    "    cpt = 0\n",
    "\n",
    "    for folder in folders:\n",
    "        categories.append(folder)\n",
    "        for image in os.listdir(path + folder):\n",
    "            cpt = cpt + 1\n",
    "            if image.endswith(\".jpg\"):\n",
    "                img = Image.open(path + folder + \"/\" + image)\n",
    "                img = img.resize((150, 150)).convert(\"RGB\") #To converte all image to RGB image\n",
    "                ar = np.asarray(img)\n",
    "                shape = ar.shape\n",
    "                ar = ar.reshape(np.product(shape[:2]), shape[2]).astype(float)\n",
    "                codes, dist = scipy.cluster.vq.kmeans(ar, NUM_CLUSTERS)\n",
    "                vecs, dist = scipy.cluster.vq.vq(ar, codes)         # assign codes\n",
    "                counts, bins = np.histogram(vecs, len(codes))    # count occurrences\n",
    "                index_max = np.argmax(counts) # find most frequent\n",
    "                peak = codes[index_max]\n",
    "                colour = binascii.hexlify(bytearray(int(c)for c in peak)).decode('ascii')\n",
    "                #print('Most frequent is %s (#%s)' % (peak, colour))\n",
    "                json_imgdata(image, cpt, folder, colour) #insert data in a json file\n",
    "\n",
    "\n",
    "find_color(5)\n"
   ],
   "outputs": [],
   "metadata": {}
  }
 ],
 "metadata": {
  "orig_nbformat": 4,
  "language_info": {
   "name": "python",
   "version": "3.9.5",
   "mimetype": "text/x-python",
   "codemirror_mode": {
    "name": "ipython",
    "version": 3
   },
   "pygments_lexer": "ipython3",
   "nbconvert_exporter": "python",
   "file_extension": ".py"
  },
  "kernelspec": {
   "name": "python3",
   "display_name": "Python 3.9.5 64-bit"
  },
  "interpreter": {
   "hash": "916dbcbb3f70747c44a77c7bcd40155683ae19c65e1c03b4aa3499c5328201f1"
  }
 },
 "nbformat": 4,
 "nbformat_minor": 2
}
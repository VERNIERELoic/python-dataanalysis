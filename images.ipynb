{
 "cells": [
  {
   "cell_type": "code",
   "execution_count": null,
   "source": [
    "import opendatasets as od\n",
    "import os\n",
    "import PIL.Image\n",
    "from PIL import Image\n",
    "from PIL.ExifTags import TAGS\n",
    "\n",
    "username = \"verniereloic\"\n",
    "key = \"03e78f24e94d43d80b595934fc372ecf\"\n",
    "\n",
    "od.download(\"https://www.kaggle.com/ayklovettc/images-with-exif\")\n",
    "\n"
   ],
   "outputs": [],
   "metadata": {}
  },
  {
   "cell_type": "markdown",
   "source": [
    "## Extract exif in python \n",
    "\n",
    "We will not use id for next steps"
   ],
   "metadata": {}
  },
  {
   "cell_type": "code",
   "execution_count": 7,
   "source": [
    "import opendatasets as od\n",
    "import os\n",
    "import PIL.Image\n",
    "from PIL import Image\n",
    "from PIL.ExifTags import TAGS\n",
    "\n",
    "\n",
    "def get_meta():\n",
    "    path = \"Images/\"\n",
    "    folders = os.listdir(\"Images\")\n",
    "    categories = []\n",
    "\n",
    "    for folder in folders:\n",
    "        categories.append(folder)\n",
    "        for image in os.listdir(path + folder):\n",
    "            if image.endswith(\".jpg\"):\n",
    "                img = PIL.Image.open(path + folder + \"/\" + image)\n",
    "                exif_data = img.getexif()\n",
    "                print(exif_data)"
   ],
   "outputs": [],
   "metadata": {}
  },
  {
   "cell_type": "code",
   "execution_count": 80,
   "source": [
    "from __future__ import print_function\n",
    "import binascii\n",
    "import scipy\n",
    "import scipy.misc\n",
    "import scipy.cluster\n",
    "import numpy as np\n",
    "import json\n",
    "from PIL import Image\n",
    "import math\n",
    "import matplotlib.pyplot as plot\n",
    "from sklearn.cluster import KMeans\n",
    "from scipy.spatial import KDTree\n",
    "from webcolors import (\n",
    "    CSS3_HEX_TO_NAMES,\n",
    "    hex_to_rgb,\n",
    ")\n",
    "\n",
    "def hex_to_rgb(value):\n",
    "    value = value.lstrip('#')\n",
    "    lv = len(value)\n",
    "    return tuple(int(value[i:i + lv // 3], 16) for i in range(0, lv, lv // 3))\n",
    "\n",
    "def convert_rgb_to_names(rgb_tuple):\n",
    "    \n",
    "    # a dictionary of all the hex and their respective names in css3\n",
    "    css3_db = CSS3_HEX_TO_NAMES\n",
    "    names = []\n",
    "    rgb_values = []\n",
    "    for color_hex, color_name in css3_db.items():\n",
    "        names.append(color_name)\n",
    "        rgb_values.append(hex_to_rgb(color_hex))\n",
    "    \n",
    "    kdt_db = KDTree(rgb_values)\n",
    "    distance, index = kdt_db.query(rgb_tuple)\n",
    "    return f'{names[index]}'\n",
    "\n",
    "\n",
    "def find_color(NUM_CLUSTERS):\n",
    "\n",
    "    path = \"Images/\"\n",
    "    folders = os.listdir(\"Images\")\n",
    "    categories = []\n",
    "    data = dict()\n",
    "    cpt = 0\n",
    "\n",
    "    for folder in folders:\n",
    "        categories.append(folder)\n",
    "        for image in os.listdir(path + folder):\n",
    "            cpt = cpt + 1\n",
    "            if image.endswith((\".jpg\",\".png\")):\n",
    "                img = Image.open(path + folder + \"/\" + image)\n",
    "                #img = img.resize((150, 150)).convert(\"RGB\") #To converte all image to RGB image\n",
    "                img = img.convert(\"RGB\")\n",
    "                ar = np.asarray(img)\n",
    "                shape = ar.shape\n",
    "                ar = ar.reshape(np.product(shape[:2]), shape[2]).astype(float)\n",
    "                codes, dist = scipy.cluster.vq.kmeans(ar, NUM_CLUSTERS)\n",
    "                vecs, dist = scipy.cluster.vq.vq(ar, codes)         # assign codes\n",
    "                counts, bins = np.histogram(vecs, len(codes))    # count occurrences\n",
    "                index_max = np.argmax(counts) # find most frequent\n",
    "                peak = codes[index_max]\n",
    "                colour = binascii.hexlify(bytearray(int(c)for c in peak)).decode('ascii')\n",
    "                #print('Most frequent is %s (#%s)' % (peak, colour))\n",
    "                colour_name = convert_rgb_to_names(hex_to_rgb(colour))\n",
    "                data[image] = { \n",
    "                  'Id': cpt,\n",
    "                  'Category': folder, \n",
    "                  'Color': colour_name,\n",
    "                  'size' : img.size\n",
    "                }\n",
    "    \n",
    "    with open('json_data.json', 'w+') as outfile:\n",
    "        outfile.write(json.dumps(data, indent=4))\n",
    "        #outfile.write(\",\")\n",
    "        outfile.close()\n",
    "\n",
    "\n",
    "\n",
    "\n",
    "find_color(5)\n"
   ],
   "outputs": [],
   "metadata": {}
  },
  {
   "cell_type": "code",
   "execution_count": 15,
   "source": [
    "le1.transform([\"airplane\"])[0]"
   ],
   "outputs": [
    {
     "output_type": "execute_result",
     "data": {
      "text/plain": [
       "0"
      ]
     },
     "metadata": {},
     "execution_count": 15
    }
   ],
   "metadata": {}
  },
  {
   "cell_type": "code",
   "execution_count": 17,
   "source": [
    "from sklearn import tree\n",
    "import pandas as pd\n",
    "from sklearn.preprocessing import LabelEncoder\n",
    "import json\n",
    "\n",
    "data = []\n",
    "\n",
    "with open('json_data.json') as f:\n",
    "    datajs = json.load(f)\n",
    "    count = 0\n",
    "\n",
    "    for key, value in datajs.items():\n",
    "        count += 1\n",
    "        if count <= 13:\n",
    "            val = [value[\"Category\"], value[\"Color\"]]  # ,value[\"size\"]\n",
    "            data.append(val)\n",
    "        else:\n",
    "            break\n",
    "\n",
    "    print(data)\n",
    "\n",
    "print(len(data))\n",
    "\n",
    "\n",
    "result = [\n",
    "    'Favorite',\n",
    "    'NotFavorite',\n",
    "    'Favorite',\n",
    "    'Favorite',\n",
    "    'Favorite',\n",
    "    'Favorite',\n",
    "    'Favorite',\n",
    "    'NotFavorite',\n",
    "    'NotFavorite',\n",
    "    'Favorite',\n",
    "    'Favorite',\n",
    "    'NotFavorite',\n",
    "    'NotFavorite'\n",
    "]\n",
    "\n",
    "\n",
    "# creating dataframes\n",
    "dataframe = pd.DataFrame(data, columns=['category', 'color'])\n",
    "resultframe = pd.DataFrame(result, columns=['favorite'])\n",
    "\n",
    "# generating numerical labels\n",
    "le1 = LabelEncoder()\n",
    "dataframe['category'] = le1.fit_transform(dataframe['category'])\n",
    "\n",
    "le2 = LabelEncoder()\n",
    "dataframe['color'] = le2.fit_transform(dataframe['color'])\n",
    "\n",
    "le3 = LabelEncoder()\n",
    "resultframe['favorite'] = le3.fit_transform(resultframe['favorite'])\n",
    "\n",
    "# Use of decision tree classifiers\n",
    "dtc = tree.DecisionTreeClassifier()\n",
    "dtc = dtc.fit(dataframe, resultframe)\n",
    "\n",
    "# prediction\n",
    "prediction = dtc.predict(\n",
    "    [[le1.transform(['airplane'])[0], le2.transform(['silver'])[0]]])\n",
    "print(le3.inverse_transform(prediction))\n",
    "print(dtc.feature_importances_)\n"
   ],
   "outputs": [
    {
     "output_type": "stream",
     "name": "stdout",
     "text": [
      "[['airplane', 'silver'], ['airplane', 'darkslategray'], ['airplane', 'white'], ['airplane', 'gainsboro'], ['airplane', 'silver'], ['airplane', 'lightslategray'], ['cat', 'black'], ['cat', 'darkslategray'], ['cat', 'black'], ['cat', 'black'], ['cat', 'darkgray'], ['cat', 'darkolivegreen'], ['cat', 'black'], ['cat', 'darkslategray']]\n",
      "14\n"
     ]
    },
    {
     "output_type": "error",
     "ename": "ValueError",
     "evalue": "Number of labels=13 does not match number of samples=14",
     "traceback": [
      "\u001b[0;31m---------------------------------------------------------------------------\u001b[0m",
      "\u001b[0;31mValueError\u001b[0m                                Traceback (most recent call last)",
      "Input \u001b[0;32mIn [17]\u001b[0m, in \u001b[0;36m<module>\u001b[0;34m\u001b[0m\n\u001b[1;32m     56\u001b[0m \u001b[38;5;66;03m# Use of decision tree classifiers\u001b[39;00m\n\u001b[1;32m     57\u001b[0m dtc \u001b[38;5;241m=\u001b[39m tree\u001b[38;5;241m.\u001b[39mDecisionTreeClassifier()\n\u001b[0;32m---> 58\u001b[0m dtc \u001b[38;5;241m=\u001b[39m \u001b[43mdtc\u001b[49m\u001b[38;5;241;43m.\u001b[39;49m\u001b[43mfit\u001b[49m\u001b[43m(\u001b[49m\u001b[43mdataframe\u001b[49m\u001b[43m,\u001b[49m\u001b[43m \u001b[49m\u001b[43mresultframe\u001b[49m\u001b[43m)\u001b[49m\n\u001b[1;32m     60\u001b[0m \u001b[38;5;66;03m# prediction\u001b[39;00m\n\u001b[1;32m     61\u001b[0m prediction \u001b[38;5;241m=\u001b[39m dtc\u001b[38;5;241m.\u001b[39mpredict(\n\u001b[1;32m     62\u001b[0m     [[le1\u001b[38;5;241m.\u001b[39mtransform([\u001b[38;5;124m'\u001b[39m\u001b[38;5;124mairplane\u001b[39m\u001b[38;5;124m'\u001b[39m])[\u001b[38;5;241m0\u001b[39m], le2\u001b[38;5;241m.\u001b[39mtransform([\u001b[38;5;124m'\u001b[39m\u001b[38;5;124msilver\u001b[39m\u001b[38;5;124m'\u001b[39m])[\u001b[38;5;241m0\u001b[39m]]])\n",
      "File \u001b[0;32m~/.local/lib/python3.9/site-packages/sklearn/tree/_classes.py:937\u001b[0m, in \u001b[0;36mDecisionTreeClassifier.fit\u001b[0;34m(self, X, y, sample_weight, check_input, X_idx_sorted)\u001b[0m\n\u001b[1;32m    899\u001b[0m \u001b[38;5;28;01mdef\u001b[39;00m \u001b[38;5;21mfit\u001b[39m(\n\u001b[1;32m    900\u001b[0m     \u001b[38;5;28mself\u001b[39m, X, y, sample_weight\u001b[38;5;241m=\u001b[39m\u001b[38;5;28;01mNone\u001b[39;00m, check_input\u001b[38;5;241m=\u001b[39m\u001b[38;5;28;01mTrue\u001b[39;00m, X_idx_sorted\u001b[38;5;241m=\u001b[39m\u001b[38;5;124m\"\u001b[39m\u001b[38;5;124mdeprecated\u001b[39m\u001b[38;5;124m\"\u001b[39m\n\u001b[1;32m    901\u001b[0m ):\n\u001b[1;32m    902\u001b[0m     \u001b[38;5;124;03m\"\"\"Build a decision tree classifier from the training set (X, y).\u001b[39;00m\n\u001b[1;32m    903\u001b[0m \n\u001b[1;32m    904\u001b[0m \u001b[38;5;124;03m    Parameters\u001b[39;00m\n\u001b[0;32m   (...)\u001b[0m\n\u001b[1;32m    934\u001b[0m \u001b[38;5;124;03m        Fitted estimator.\u001b[39;00m\n\u001b[1;32m    935\u001b[0m \u001b[38;5;124;03m    \"\"\"\u001b[39;00m\n\u001b[0;32m--> 937\u001b[0m     \u001b[38;5;28;43msuper\u001b[39;49m\u001b[43m(\u001b[49m\u001b[43m)\u001b[49m\u001b[38;5;241;43m.\u001b[39;49m\u001b[43mfit\u001b[49m\u001b[43m(\u001b[49m\n\u001b[1;32m    938\u001b[0m \u001b[43m        \u001b[49m\u001b[43mX\u001b[49m\u001b[43m,\u001b[49m\n\u001b[1;32m    939\u001b[0m \u001b[43m        \u001b[49m\u001b[43my\u001b[49m\u001b[43m,\u001b[49m\n\u001b[1;32m    940\u001b[0m \u001b[43m        \u001b[49m\u001b[43msample_weight\u001b[49m\u001b[38;5;241;43m=\u001b[39;49m\u001b[43msample_weight\u001b[49m\u001b[43m,\u001b[49m\n\u001b[1;32m    941\u001b[0m \u001b[43m        \u001b[49m\u001b[43mcheck_input\u001b[49m\u001b[38;5;241;43m=\u001b[39;49m\u001b[43mcheck_input\u001b[49m\u001b[43m,\u001b[49m\n\u001b[1;32m    942\u001b[0m \u001b[43m        \u001b[49m\u001b[43mX_idx_sorted\u001b[49m\u001b[38;5;241;43m=\u001b[39;49m\u001b[43mX_idx_sorted\u001b[49m\u001b[43m,\u001b[49m\n\u001b[1;32m    943\u001b[0m \u001b[43m    \u001b[49m\u001b[43m)\u001b[49m\n\u001b[1;32m    944\u001b[0m     \u001b[38;5;28;01mreturn\u001b[39;00m \u001b[38;5;28mself\u001b[39m\n",
      "File \u001b[0;32m~/.local/lib/python3.9/site-packages/sklearn/tree/_classes.py:299\u001b[0m, in \u001b[0;36mBaseDecisionTree.fit\u001b[0;34m(self, X, y, sample_weight, check_input, X_idx_sorted)\u001b[0m\n\u001b[1;32m    296\u001b[0m \u001b[38;5;28mself\u001b[39m\u001b[38;5;241m.\u001b[39mmax_features_ \u001b[38;5;241m=\u001b[39m max_features\n\u001b[1;32m    298\u001b[0m \u001b[38;5;28;01mif\u001b[39;00m \u001b[38;5;28mlen\u001b[39m(y) \u001b[38;5;241m!=\u001b[39m n_samples:\n\u001b[0;32m--> 299\u001b[0m     \u001b[38;5;28;01mraise\u001b[39;00m \u001b[38;5;167;01mValueError\u001b[39;00m(\n\u001b[1;32m    300\u001b[0m         \u001b[38;5;124m\"\u001b[39m\u001b[38;5;124mNumber of labels=\u001b[39m\u001b[38;5;132;01m%d\u001b[39;00m\u001b[38;5;124m does not match number of samples=\u001b[39m\u001b[38;5;132;01m%d\u001b[39;00m\u001b[38;5;124m\"\u001b[39m\n\u001b[1;32m    301\u001b[0m         \u001b[38;5;241m%\u001b[39m (\u001b[38;5;28mlen\u001b[39m(y), n_samples)\n\u001b[1;32m    302\u001b[0m     )\n\u001b[1;32m    303\u001b[0m \u001b[38;5;28;01mif\u001b[39;00m \u001b[38;5;129;01mnot\u001b[39;00m \u001b[38;5;241m0\u001b[39m \u001b[38;5;241m<\u001b[39m\u001b[38;5;241m=\u001b[39m \u001b[38;5;28mself\u001b[39m\u001b[38;5;241m.\u001b[39mmin_weight_fraction_leaf \u001b[38;5;241m<\u001b[39m\u001b[38;5;241m=\u001b[39m \u001b[38;5;241m0.5\u001b[39m:\n\u001b[1;32m    304\u001b[0m     \u001b[38;5;28;01mraise\u001b[39;00m \u001b[38;5;167;01mValueError\u001b[39;00m(\u001b[38;5;124m\"\u001b[39m\u001b[38;5;124mmin_weight_fraction_leaf must in [0, 0.5]\u001b[39m\u001b[38;5;124m\"\u001b[39m)\n",
      "\u001b[0;31mValueError\u001b[0m: Number of labels=13 does not match number of samples=14"
     ]
    }
   ],
   "metadata": {}
  },
  {
   "cell_type": "code",
   "execution_count": null,
   "source": [],
   "outputs": [],
   "metadata": {}
  }
 ],
 "metadata": {
  "orig_nbformat": 4,
  "language_info": {
   "name": "python",
   "version": "3.9.5",
   "mimetype": "text/x-python",
   "codemirror_mode": {
    "name": "ipython",
    "version": 3
   },
   "pygments_lexer": "ipython3",
   "nbconvert_exporter": "python",
   "file_extension": ".py"
  },
  "kernelspec": {
   "name": "python3",
   "display_name": "Python 3.9.5 64-bit"
  },
  "interpreter": {
   "hash": "916dbcbb3f70747c44a77c7bcd40155683ae19c65e1c03b4aa3499c5328201f1"
  }
 },
 "nbformat": 4,
 "nbformat_minor": 2
}
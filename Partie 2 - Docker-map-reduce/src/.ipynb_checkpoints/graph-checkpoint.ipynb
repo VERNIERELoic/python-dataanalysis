{
 "cells": [
  {
   "cell_type": "code",
   "execution_count": null,
   "metadata": {},
   "outputs": [],
   "source": [
    "import numpy as np\n",
    "from matplotlib import pyplot as plt\n",
    "from webcolors import (\n",
    "    CSS3_HEX_TO_NAMES,\n",
    "    hex_to_rgb,\n",
    "    name_to_rgb,\n",
    ")\n",
    "\n",
    "def analysedata(filename):\n",
    "    colors = []\n",
    "    colors_quantity = []\n",
    "\n",
    "    with open(filename) as f:\n",
    "        datajs = json.load(f)\n",
    "        for row in datajs:\n",
    "            colors.append(row.get('Color'))\n",
    "\n",
    "    for line in colors:\n",
    "        nbr_colors = colors.count(line)\n",
    "        colors_quantity.append(nbr_colors)  # , line\n",
    "    \n",
    "    plt.title(\"Data analyse colors\")\n",
    "    names = []\n",
    "    for i in colors:\n",
    "        names.append(name_to_rgb(i))\n",
    "\n",
    "    plt.bar(colors, colors_quantity, color=colors, align='center')\n",
    "    plt.ylabel('Quantity')\n",
    "    plt.xlabel('Color')\n",
    "\n",
    "\n",
    "analysedata('json_data.json')"
   ]
  }
 ],
 "metadata": {
  "language_info": {
   "name": "python"
  },
  "orig_nbformat": 4
 },
 "nbformat": 4,
 "nbformat_minor": 2
}
